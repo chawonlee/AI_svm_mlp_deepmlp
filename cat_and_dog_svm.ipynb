{
  "nbformat": 4,
  "nbformat_minor": 0,
  "metadata": {
    "colab": {
      "name": "cat and dog_svm.ipynb",
      "provenance": [],
      "mount_file_id": "1sbRSmTJPSDlvf60Cjo3WJBiWPS-kNKdT",
      "authorship_tag": "ABX9TyNu2kgkpSI7TdGjiI1b+D+a",
      "include_colab_link": true
    },
    "kernelspec": {
      "name": "python3",
      "display_name": "Python 3"
    },
    "language_info": {
      "name": "python"
    },
    "accelerator": "GPU"
  },
  "cells": [
    {
      "cell_type": "markdown",
      "metadata": {
        "id": "view-in-github",
        "colab_type": "text"
      },
      "source": [
        "<a href=\"https://colab.research.google.com/github/chawonlee/AI_svm_mlp_deepmlp/blob/master/cat_and_dog_svm.ipynb\" target=\"_parent\"><img src=\"https://colab.research.google.com/assets/colab-badge.svg\" alt=\"Open In Colab\"/></a>"
      ]
    },
    {
      "cell_type": "code",
      "metadata": {
        "colab": {
          "base_uri": "https://localhost:8080/"
        },
        "id": "VABsHQtdlK9x",
        "outputId": "77603bf0-78f3-4938-c229-002406c9ba6c"
      },
      "source": [
        "from google.colab import drive \n",
        "drive.mount('/content/drive')"
      ],
      "execution_count": 9,
      "outputs": [
        {
          "output_type": "stream",
          "text": [
            "Drive already mounted at /content/drive; to attempt to forcibly remount, call drive.mount(\"/content/drive\", force_remount=True).\n"
          ],
          "name": "stdout"
        }
      ]
    },
    {
      "cell_type": "code",
      "metadata": {
        "colab": {
          "base_uri": "https://localhost:8080/"
        },
        "id": "2N400Ub0mAwl",
        "outputId": "e7b0e901-4d56-4e32-be60-f57339ebe847"
      },
      "source": [
        "import os\n",
        "# 기본 경로\n",
        "base_dir = '/content/drive/MyDrive/archive'\n",
        "\n",
        "training_set = os.path.join(base_dir, 'training_set')\n",
        "test_set = os.path.join(base_dir, 'test_set')\n",
        "\n",
        "# 훈련에 사용되는 고양이/개 이미지 경로\n",
        "training_set_cats = os.path.join(training_set, 'cats')\n",
        "training_set_dogs = os.path.join(training_set, 'dogs')\n",
        "print(training_set_cats)\n",
        "print(training_set_dogs)\n",
        "\n",
        "# 테스트에 사용되는 고양이/개 이미지 경로\n",
        "test_set_cats = os.path.join(test_set, 'cats')\n",
        "test_set_dogs = os.path.join(test_set, 'dogs')\n",
        "print(test_set_cats)\n",
        "print(test_set_dogs)"
      ],
      "execution_count": 10,
      "outputs": [
        {
          "output_type": "stream",
          "text": [
            "/content/drive/MyDrive/archive/training_set/cats\n",
            "/content/drive/MyDrive/archive/training_set/dogs\n",
            "/content/drive/MyDrive/archive/test_set/cats\n",
            "/content/drive/MyDrive/archive/test_set/dogs\n"
          ],
          "name": "stdout"
        }
      ]
    },
    {
      "cell_type": "code",
      "metadata": {
        "colab": {
          "base_uri": "https://localhost:8080/"
        },
        "id": "AD0pNlWcsSvo",
        "outputId": "5e5a171d-f6b9-4c1b-c2a4-cce20972d176"
      },
      "source": [
        "print('Total training cat images :', len(os.listdir(training_set_cats)))\n",
        "print('Total training dog images :', len(os.listdir(training_set_dogs)))\n",
        "\n",
        "print('Total test cat images :', len(os.listdir(test_set_cats)))\n",
        "print('Total test dog images :', len(os.listdir(test_set_dogs)))"
      ],
      "execution_count": 11,
      "outputs": [
        {
          "output_type": "stream",
          "text": [
            "Total training cat images : 4001\n",
            "Total training dog images : 4016\n",
            "Total test cat images : 1012\n",
            "Total test dog images : 1013\n"
          ],
          "name": "stdout"
        }
      ]
    }
  ]
}